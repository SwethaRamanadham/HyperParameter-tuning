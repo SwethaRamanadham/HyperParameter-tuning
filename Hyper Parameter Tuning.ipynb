{
 "cells": [
  {
   "cell_type": "markdown",
   "metadata": {},
   "source": [
    "## Hyper Parameter Tuning"
   ]
  },
  {
   "cell_type": "markdown",
   "metadata": {},
   "source": [
    "#### - By Swetha Ramanadham, D19031"
   ]
  },
  {
   "cell_type": "code",
   "execution_count": 1,
   "metadata": {},
   "outputs": [],
   "source": [
    "import pandas as pd\n",
    "import numpy as np\n",
    "import matplotlib.pyplot as plt\n",
    "import os\n",
    "import sklearn.ensemble as ensemble\n",
    "import sklearn"
   ]
  },
  {
   "cell_type": "code",
   "execution_count": 2,
   "metadata": {},
   "outputs": [],
   "source": [
    "from sklearn.tree import DecisionTreeClassifier\n",
    "from sklearn.model_selection import GridSearchCV\n",
    "from sklearn.model_selection import validation_curve\n",
    "from sklearn.ensemble import RandomForestClassifier\n",
    "from sklearn.ensemble import AdaBoostClassifier\n",
    "import sklearn.metrics as metrics\n",
    "from sklearn.model_selection import train_test_split"
   ]
  },
  {
   "cell_type": "code",
   "execution_count": 3,
   "metadata": {},
   "outputs": [
    {
     "data": {
      "text/html": [
       "<div>\n",
       "<style scoped>\n",
       "    .dataframe tbody tr th:only-of-type {\n",
       "        vertical-align: middle;\n",
       "    }\n",
       "\n",
       "    .dataframe tbody tr th {\n",
       "        vertical-align: top;\n",
       "    }\n",
       "\n",
       "    .dataframe thead th {\n",
       "        text-align: right;\n",
       "    }\n",
       "</style>\n",
       "<table border=\"1\" class=\"dataframe\">\n",
       "  <thead>\n",
       "    <tr style=\"text-align: right;\">\n",
       "      <th></th>\n",
       "      <th>RowNumber</th>\n",
       "      <th>CustomerId</th>\n",
       "      <th>Surname</th>\n",
       "      <th>CreditScore</th>\n",
       "      <th>Geography</th>\n",
       "      <th>Gender</th>\n",
       "      <th>Age</th>\n",
       "      <th>Tenure</th>\n",
       "      <th>Balance</th>\n",
       "      <th>NumOfProducts</th>\n",
       "      <th>HasCrCard</th>\n",
       "      <th>IsActiveMember</th>\n",
       "      <th>EstimatedSalary</th>\n",
       "      <th>Exited</th>\n",
       "    </tr>\n",
       "  </thead>\n",
       "  <tbody>\n",
       "    <tr>\n",
       "      <th>0</th>\n",
       "      <td>1</td>\n",
       "      <td>15634602</td>\n",
       "      <td>Hargrave</td>\n",
       "      <td>619</td>\n",
       "      <td>France</td>\n",
       "      <td>Female</td>\n",
       "      <td>42</td>\n",
       "      <td>2</td>\n",
       "      <td>0.00</td>\n",
       "      <td>1</td>\n",
       "      <td>1</td>\n",
       "      <td>1</td>\n",
       "      <td>101348.88</td>\n",
       "      <td>1</td>\n",
       "    </tr>\n",
       "    <tr>\n",
       "      <th>1</th>\n",
       "      <td>2</td>\n",
       "      <td>15647311</td>\n",
       "      <td>Hill</td>\n",
       "      <td>608</td>\n",
       "      <td>Spain</td>\n",
       "      <td>Female</td>\n",
       "      <td>41</td>\n",
       "      <td>1</td>\n",
       "      <td>83807.86</td>\n",
       "      <td>1</td>\n",
       "      <td>0</td>\n",
       "      <td>1</td>\n",
       "      <td>112542.58</td>\n",
       "      <td>0</td>\n",
       "    </tr>\n",
       "    <tr>\n",
       "      <th>2</th>\n",
       "      <td>3</td>\n",
       "      <td>15619304</td>\n",
       "      <td>Onio</td>\n",
       "      <td>502</td>\n",
       "      <td>France</td>\n",
       "      <td>Female</td>\n",
       "      <td>42</td>\n",
       "      <td>8</td>\n",
       "      <td>159660.80</td>\n",
       "      <td>3</td>\n",
       "      <td>1</td>\n",
       "      <td>0</td>\n",
       "      <td>113931.57</td>\n",
       "      <td>1</td>\n",
       "    </tr>\n",
       "    <tr>\n",
       "      <th>3</th>\n",
       "      <td>4</td>\n",
       "      <td>15701354</td>\n",
       "      <td>Boni</td>\n",
       "      <td>699</td>\n",
       "      <td>France</td>\n",
       "      <td>Female</td>\n",
       "      <td>39</td>\n",
       "      <td>1</td>\n",
       "      <td>0.00</td>\n",
       "      <td>2</td>\n",
       "      <td>0</td>\n",
       "      <td>0</td>\n",
       "      <td>93826.63</td>\n",
       "      <td>0</td>\n",
       "    </tr>\n",
       "    <tr>\n",
       "      <th>4</th>\n",
       "      <td>5</td>\n",
       "      <td>15737888</td>\n",
       "      <td>Mitchell</td>\n",
       "      <td>850</td>\n",
       "      <td>Spain</td>\n",
       "      <td>Female</td>\n",
       "      <td>43</td>\n",
       "      <td>2</td>\n",
       "      <td>125510.82</td>\n",
       "      <td>1</td>\n",
       "      <td>1</td>\n",
       "      <td>1</td>\n",
       "      <td>79084.10</td>\n",
       "      <td>0</td>\n",
       "    </tr>\n",
       "  </tbody>\n",
       "</table>\n",
       "</div>"
      ],
      "text/plain": [
       "   RowNumber  CustomerId   Surname  CreditScore Geography  Gender  Age  \\\n",
       "0          1    15634602  Hargrave          619    France  Female   42   \n",
       "1          2    15647311      Hill          608     Spain  Female   41   \n",
       "2          3    15619304      Onio          502    France  Female   42   \n",
       "3          4    15701354      Boni          699    France  Female   39   \n",
       "4          5    15737888  Mitchell          850     Spain  Female   43   \n",
       "\n",
       "   Tenure    Balance  NumOfProducts  HasCrCard  IsActiveMember  \\\n",
       "0       2       0.00              1          1               1   \n",
       "1       1   83807.86              1          0               1   \n",
       "2       8  159660.80              3          1               0   \n",
       "3       1       0.00              2          0               0   \n",
       "4       2  125510.82              1          1               1   \n",
       "\n",
       "   EstimatedSalary  Exited  \n",
       "0        101348.88       1  \n",
       "1        112542.58       0  \n",
       "2        113931.57       1  \n",
       "3         93826.63       0  \n",
       "4         79084.10       0  "
      ]
     },
     "execution_count": 3,
     "metadata": {},
     "output_type": "execute_result"
    }
   ],
   "source": [
    "os.chdir(\"C:\\\\Users\\\\R swetha\\\\Desktop\\\\ML Assignment\\\\DATASETS\")\n",
    "churn = pd.read_csv(\"Churn_Modelling.csv\")\n",
    "churn.head(5)"
   ]
  },
  {
   "cell_type": "code",
   "execution_count": 4,
   "metadata": {},
   "outputs": [
    {
     "data": {
      "text/plain": [
       "(10000, 14)"
      ]
     },
     "execution_count": 4,
     "metadata": {},
     "output_type": "execute_result"
    }
   ],
   "source": [
    "churn.shape"
   ]
  },
  {
   "cell_type": "code",
   "execution_count": 5,
   "metadata": {},
   "outputs": [
    {
     "data": {
      "text/plain": [
       "Index(['RowNumber', 'CustomerId', 'Surname', 'CreditScore', 'Geography',\n",
       "       'Gender', 'Age', 'Tenure', 'Balance', 'NumOfProducts', 'HasCrCard',\n",
       "       'IsActiveMember', 'EstimatedSalary', 'Exited'],\n",
       "      dtype='object')"
      ]
     },
     "execution_count": 5,
     "metadata": {},
     "output_type": "execute_result"
    }
   ],
   "source": [
    "churn.columns"
   ]
  },
  {
   "cell_type": "code",
   "execution_count": 6,
   "metadata": {},
   "outputs": [
    {
     "data": {
      "text/plain": [
       "RowNumber          0\n",
       "CustomerId         0\n",
       "Surname            0\n",
       "CreditScore        0\n",
       "Geography          0\n",
       "Gender             0\n",
       "Age                0\n",
       "Tenure             0\n",
       "Balance            0\n",
       "NumOfProducts      0\n",
       "HasCrCard          0\n",
       "IsActiveMember     0\n",
       "EstimatedSalary    0\n",
       "Exited             0\n",
       "dtype: int64"
      ]
     },
     "execution_count": 6,
     "metadata": {},
     "output_type": "execute_result"
    }
   ],
   "source": [
    "churn.isnull().sum()"
   ]
  },
  {
   "cell_type": "code",
   "execution_count": 7,
   "metadata": {},
   "outputs": [
    {
     "data": {
      "text/plain": [
       "RowNumber            int64\n",
       "CustomerId           int64\n",
       "Surname             object\n",
       "CreditScore          int64\n",
       "Geography           object\n",
       "Gender              object\n",
       "Age                  int64\n",
       "Tenure               int64\n",
       "Balance            float64\n",
       "NumOfProducts        int64\n",
       "HasCrCard            int64\n",
       "IsActiveMember       int64\n",
       "EstimatedSalary    float64\n",
       "Exited               int64\n",
       "dtype: object"
      ]
     },
     "execution_count": 7,
     "metadata": {},
     "output_type": "execute_result"
    }
   ],
   "source": [
    "churn.dtypes"
   ]
  },
  {
   "cell_type": "code",
   "execution_count": 8,
   "metadata": {},
   "outputs": [
    {
     "data": {
      "text/html": [
       "<div>\n",
       "<style scoped>\n",
       "    .dataframe tbody tr th:only-of-type {\n",
       "        vertical-align: middle;\n",
       "    }\n",
       "\n",
       "    .dataframe tbody tr th {\n",
       "        vertical-align: top;\n",
       "    }\n",
       "\n",
       "    .dataframe thead th {\n",
       "        text-align: right;\n",
       "    }\n",
       "</style>\n",
       "<table border=\"1\" class=\"dataframe\">\n",
       "  <thead>\n",
       "    <tr style=\"text-align: right;\">\n",
       "      <th></th>\n",
       "      <th>CreditScore</th>\n",
       "      <th>Geography</th>\n",
       "      <th>Gender</th>\n",
       "      <th>Age</th>\n",
       "      <th>Tenure</th>\n",
       "      <th>Balance</th>\n",
       "      <th>NumOfProducts</th>\n",
       "      <th>HasCrCard</th>\n",
       "      <th>IsActiveMember</th>\n",
       "      <th>EstimatedSalary</th>\n",
       "      <th>Exited</th>\n",
       "    </tr>\n",
       "  </thead>\n",
       "  <tbody>\n",
       "    <tr>\n",
       "      <th>0</th>\n",
       "      <td>619</td>\n",
       "      <td>France</td>\n",
       "      <td>Female</td>\n",
       "      <td>42</td>\n",
       "      <td>2</td>\n",
       "      <td>0.00</td>\n",
       "      <td>1</td>\n",
       "      <td>1</td>\n",
       "      <td>1</td>\n",
       "      <td>101348.88</td>\n",
       "      <td>1</td>\n",
       "    </tr>\n",
       "    <tr>\n",
       "      <th>1</th>\n",
       "      <td>608</td>\n",
       "      <td>Spain</td>\n",
       "      <td>Female</td>\n",
       "      <td>41</td>\n",
       "      <td>1</td>\n",
       "      <td>83807.86</td>\n",
       "      <td>1</td>\n",
       "      <td>0</td>\n",
       "      <td>1</td>\n",
       "      <td>112542.58</td>\n",
       "      <td>0</td>\n",
       "    </tr>\n",
       "    <tr>\n",
       "      <th>2</th>\n",
       "      <td>502</td>\n",
       "      <td>France</td>\n",
       "      <td>Female</td>\n",
       "      <td>42</td>\n",
       "      <td>8</td>\n",
       "      <td>159660.80</td>\n",
       "      <td>3</td>\n",
       "      <td>1</td>\n",
       "      <td>0</td>\n",
       "      <td>113931.57</td>\n",
       "      <td>1</td>\n",
       "    </tr>\n",
       "    <tr>\n",
       "      <th>3</th>\n",
       "      <td>699</td>\n",
       "      <td>France</td>\n",
       "      <td>Female</td>\n",
       "      <td>39</td>\n",
       "      <td>1</td>\n",
       "      <td>0.00</td>\n",
       "      <td>2</td>\n",
       "      <td>0</td>\n",
       "      <td>0</td>\n",
       "      <td>93826.63</td>\n",
       "      <td>0</td>\n",
       "    </tr>\n",
       "    <tr>\n",
       "      <th>4</th>\n",
       "      <td>850</td>\n",
       "      <td>Spain</td>\n",
       "      <td>Female</td>\n",
       "      <td>43</td>\n",
       "      <td>2</td>\n",
       "      <td>125510.82</td>\n",
       "      <td>1</td>\n",
       "      <td>1</td>\n",
       "      <td>1</td>\n",
       "      <td>79084.10</td>\n",
       "      <td>0</td>\n",
       "    </tr>\n",
       "  </tbody>\n",
       "</table>\n",
       "</div>"
      ],
      "text/plain": [
       "   CreditScore Geography  Gender  Age  Tenure    Balance  NumOfProducts  \\\n",
       "0          619    France  Female   42       2       0.00              1   \n",
       "1          608     Spain  Female   41       1   83807.86              1   \n",
       "2          502    France  Female   42       8  159660.80              3   \n",
       "3          699    France  Female   39       1       0.00              2   \n",
       "4          850     Spain  Female   43       2  125510.82              1   \n",
       "\n",
       "   HasCrCard  IsActiveMember  EstimatedSalary  Exited  \n",
       "0          1               1        101348.88       1  \n",
       "1          0               1        112542.58       0  \n",
       "2          1               0        113931.57       1  \n",
       "3          0               0         93826.63       0  \n",
       "4          1               1         79084.10       0  "
      ]
     },
     "execution_count": 8,
     "metadata": {},
     "output_type": "execute_result"
    }
   ],
   "source": [
    "data=churn\n",
    "data = data.drop(['RowNumber','CustomerId','Surname'],axis=1)\n",
    "data.head(5)"
   ]
  },
  {
   "cell_type": "code",
   "execution_count": 9,
   "metadata": {},
   "outputs": [
    {
     "data": {
      "text/plain": [
       "0    7963\n",
       "1    2037\n",
       "Name: Exited, dtype: int64"
      ]
     },
     "execution_count": 9,
     "metadata": {},
     "output_type": "execute_result"
    }
   ],
   "source": [
    "data['Exited'].value_counts()"
   ]
  },
  {
   "cell_type": "markdown",
   "metadata": {},
   "source": [
    "#### Performing Oversampling"
   ]
  },
  {
   "cell_type": "code",
   "execution_count": 10,
   "metadata": {},
   "outputs": [],
   "source": [
    "from sklearn.utils import resample\n",
    "from sklearn.utils import shuffle\n",
    "data_zero = data[data.Exited==0]\n",
    "data_one = data[data.Exited==1]\n",
    "\n",
    "#oversampling 1's\n",
    "data_newone=resample(data_one,replace=True,n_samples=5000)\n",
    "\n",
    "newsample=pd.concat([data_zero,data_newone])\n",
    "#Shuffling\n",
    "newsample = shuffle(newsample)\n"
   ]
  },
  {
   "cell_type": "code",
   "execution_count": 11,
   "metadata": {},
   "outputs": [
    {
     "name": "stdout",
     "output_type": "stream",
     "text": [
      "Shape (12963, 11)\n",
      "0    7963\n",
      "1    5000\n",
      "Name: Exited, dtype: int64\n"
     ]
    },
    {
     "data": {
      "text/html": [
       "<div>\n",
       "<style scoped>\n",
       "    .dataframe tbody tr th:only-of-type {\n",
       "        vertical-align: middle;\n",
       "    }\n",
       "\n",
       "    .dataframe tbody tr th {\n",
       "        vertical-align: top;\n",
       "    }\n",
       "\n",
       "    .dataframe thead th {\n",
       "        text-align: right;\n",
       "    }\n",
       "</style>\n",
       "<table border=\"1\" class=\"dataframe\">\n",
       "  <thead>\n",
       "    <tr style=\"text-align: right;\">\n",
       "      <th></th>\n",
       "      <th>CreditScore</th>\n",
       "      <th>Geography</th>\n",
       "      <th>Gender</th>\n",
       "      <th>Age</th>\n",
       "      <th>Tenure</th>\n",
       "      <th>Balance</th>\n",
       "      <th>NumOfProducts</th>\n",
       "      <th>HasCrCard</th>\n",
       "      <th>IsActiveMember</th>\n",
       "      <th>EstimatedSalary</th>\n",
       "      <th>Exited</th>\n",
       "    </tr>\n",
       "  </thead>\n",
       "  <tbody>\n",
       "    <tr>\n",
       "      <th>8217</th>\n",
       "      <td>605</td>\n",
       "      <td>Germany</td>\n",
       "      <td>Male</td>\n",
       "      <td>75</td>\n",
       "      <td>2</td>\n",
       "      <td>61319.63</td>\n",
       "      <td>1</td>\n",
       "      <td>0</td>\n",
       "      <td>1</td>\n",
       "      <td>186655.11</td>\n",
       "      <td>0</td>\n",
       "    </tr>\n",
       "    <tr>\n",
       "      <th>4766</th>\n",
       "      <td>659</td>\n",
       "      <td>Spain</td>\n",
       "      <td>Female</td>\n",
       "      <td>38</td>\n",
       "      <td>9</td>\n",
       "      <td>0.00</td>\n",
       "      <td>2</td>\n",
       "      <td>1</td>\n",
       "      <td>1</td>\n",
       "      <td>35701.06</td>\n",
       "      <td>0</td>\n",
       "    </tr>\n",
       "    <tr>\n",
       "      <th>4808</th>\n",
       "      <td>643</td>\n",
       "      <td>France</td>\n",
       "      <td>Female</td>\n",
       "      <td>33</td>\n",
       "      <td>0</td>\n",
       "      <td>137811.75</td>\n",
       "      <td>1</td>\n",
       "      <td>1</td>\n",
       "      <td>1</td>\n",
       "      <td>184856.89</td>\n",
       "      <td>0</td>\n",
       "    </tr>\n",
       "    <tr>\n",
       "      <th>7633</th>\n",
       "      <td>661</td>\n",
       "      <td>Germany</td>\n",
       "      <td>Female</td>\n",
       "      <td>47</td>\n",
       "      <td>0</td>\n",
       "      <td>109493.62</td>\n",
       "      <td>1</td>\n",
       "      <td>0</td>\n",
       "      <td>0</td>\n",
       "      <td>188324.01</td>\n",
       "      <td>1</td>\n",
       "    </tr>\n",
       "    <tr>\n",
       "      <th>6092</th>\n",
       "      <td>601</td>\n",
       "      <td>Germany</td>\n",
       "      <td>Male</td>\n",
       "      <td>43</td>\n",
       "      <td>3</td>\n",
       "      <td>141859.12</td>\n",
       "      <td>2</td>\n",
       "      <td>1</td>\n",
       "      <td>1</td>\n",
       "      <td>111249.62</td>\n",
       "      <td>0</td>\n",
       "    </tr>\n",
       "  </tbody>\n",
       "</table>\n",
       "</div>"
      ],
      "text/plain": [
       "      CreditScore Geography  Gender  Age  Tenure    Balance  NumOfProducts  \\\n",
       "8217          605   Germany    Male   75       2   61319.63              1   \n",
       "4766          659     Spain  Female   38       9       0.00              2   \n",
       "4808          643    France  Female   33       0  137811.75              1   \n",
       "7633          661   Germany  Female   47       0  109493.62              1   \n",
       "6092          601   Germany    Male   43       3  141859.12              2   \n",
       "\n",
       "      HasCrCard  IsActiveMember  EstimatedSalary  Exited  \n",
       "8217          0               1        186655.11       0  \n",
       "4766          1               1         35701.06       0  \n",
       "4808          1               1        184856.89       0  \n",
       "7633          0               0        188324.01       1  \n",
       "6092          1               1        111249.62       0  "
      ]
     },
     "execution_count": 11,
     "metadata": {},
     "output_type": "execute_result"
    }
   ],
   "source": [
    "print(\"Shape\",newsample.shape)\n",
    "print(newsample['Exited'].value_counts())\n",
    "newsample.head()"
   ]
  },
  {
   "cell_type": "code",
   "execution_count": 12,
   "metadata": {},
   "outputs": [
    {
     "data": {
      "text/plain": [
       "Index(['Gender_Female', 'Gender_Male', 'Geography_France', 'Geography_Germany',\n",
       "       'Geography_Spain'],\n",
       "      dtype='object')"
      ]
     },
     "execution_count": 12,
     "metadata": {},
     "output_type": "execute_result"
    }
   ],
   "source": [
    "encoded = pd.get_dummies(newsample[['Gender','Geography']])\n",
    "encoded.columns"
   ]
  },
  {
   "cell_type": "code",
   "execution_count": 13,
   "metadata": {},
   "outputs": [
    {
     "data": {
      "text/html": [
       "<div>\n",
       "<style scoped>\n",
       "    .dataframe tbody tr th:only-of-type {\n",
       "        vertical-align: middle;\n",
       "    }\n",
       "\n",
       "    .dataframe tbody tr th {\n",
       "        vertical-align: top;\n",
       "    }\n",
       "\n",
       "    .dataframe thead th {\n",
       "        text-align: right;\n",
       "    }\n",
       "</style>\n",
       "<table border=\"1\" class=\"dataframe\">\n",
       "  <thead>\n",
       "    <tr style=\"text-align: right;\">\n",
       "      <th></th>\n",
       "      <th>CreditScore</th>\n",
       "      <th>Age</th>\n",
       "      <th>Tenure</th>\n",
       "      <th>Balance</th>\n",
       "      <th>NumOfProducts</th>\n",
       "      <th>HasCrCard</th>\n",
       "      <th>IsActiveMember</th>\n",
       "      <th>EstimatedSalary</th>\n",
       "      <th>Exited</th>\n",
       "    </tr>\n",
       "  </thead>\n",
       "  <tbody>\n",
       "    <tr>\n",
       "      <th>8217</th>\n",
       "      <td>605</td>\n",
       "      <td>75</td>\n",
       "      <td>2</td>\n",
       "      <td>61319.63</td>\n",
       "      <td>1</td>\n",
       "      <td>0</td>\n",
       "      <td>1</td>\n",
       "      <td>186655.11</td>\n",
       "      <td>0</td>\n",
       "    </tr>\n",
       "    <tr>\n",
       "      <th>4766</th>\n",
       "      <td>659</td>\n",
       "      <td>38</td>\n",
       "      <td>9</td>\n",
       "      <td>0.00</td>\n",
       "      <td>2</td>\n",
       "      <td>1</td>\n",
       "      <td>1</td>\n",
       "      <td>35701.06</td>\n",
       "      <td>0</td>\n",
       "    </tr>\n",
       "    <tr>\n",
       "      <th>4808</th>\n",
       "      <td>643</td>\n",
       "      <td>33</td>\n",
       "      <td>0</td>\n",
       "      <td>137811.75</td>\n",
       "      <td>1</td>\n",
       "      <td>1</td>\n",
       "      <td>1</td>\n",
       "      <td>184856.89</td>\n",
       "      <td>0</td>\n",
       "    </tr>\n",
       "    <tr>\n",
       "      <th>7633</th>\n",
       "      <td>661</td>\n",
       "      <td>47</td>\n",
       "      <td>0</td>\n",
       "      <td>109493.62</td>\n",
       "      <td>1</td>\n",
       "      <td>0</td>\n",
       "      <td>0</td>\n",
       "      <td>188324.01</td>\n",
       "      <td>1</td>\n",
       "    </tr>\n",
       "    <tr>\n",
       "      <th>6092</th>\n",
       "      <td>601</td>\n",
       "      <td>43</td>\n",
       "      <td>3</td>\n",
       "      <td>141859.12</td>\n",
       "      <td>2</td>\n",
       "      <td>1</td>\n",
       "      <td>1</td>\n",
       "      <td>111249.62</td>\n",
       "      <td>0</td>\n",
       "    </tr>\n",
       "  </tbody>\n",
       "</table>\n",
       "</div>"
      ],
      "text/plain": [
       "      CreditScore  Age  Tenure    Balance  NumOfProducts  HasCrCard  \\\n",
       "8217          605   75       2   61319.63              1          0   \n",
       "4766          659   38       9       0.00              2          1   \n",
       "4808          643   33       0  137811.75              1          1   \n",
       "7633          661   47       0  109493.62              1          0   \n",
       "6092          601   43       3  141859.12              2          1   \n",
       "\n",
       "      IsActiveMember  EstimatedSalary  Exited  \n",
       "8217               1        186655.11       0  \n",
       "4766               1         35701.06       0  \n",
       "4808               1        184856.89       0  \n",
       "7633               0        188324.01       1  \n",
       "6092               1        111249.62       0  "
      ]
     },
     "execution_count": 13,
     "metadata": {},
     "output_type": "execute_result"
    }
   ],
   "source": [
    "newsample = newsample.drop(columns=['Gender','Geography'],axis=1)\n",
    "newsample.head(5)"
   ]
  },
  {
   "cell_type": "code",
   "execution_count": 14,
   "metadata": {},
   "outputs": [
    {
     "data": {
      "text/plain": [
       "CreditScore          0\n",
       "Age                  0\n",
       "Tenure               0\n",
       "Balance              0\n",
       "NumOfProducts        0\n",
       "HasCrCard            0\n",
       "IsActiveMember       0\n",
       "EstimatedSalary      0\n",
       "Exited               0\n",
       "Gender_Female        0\n",
       "Gender_Male          0\n",
       "Geography_France     0\n",
       "Geography_Germany    0\n",
       "Geography_Spain      0\n",
       "dtype: int64"
      ]
     },
     "execution_count": 14,
     "metadata": {},
     "output_type": "execute_result"
    }
   ],
   "source": [
    "newsample = pd.concat([newsample,encoded[['Gender_Female','Gender_Male','Geography_France','Geography_Germany','Geography_Spain']]],axis=1)\n",
    "newsample.head(3)\n",
    "newsample.isnull().sum()"
   ]
  },
  {
   "cell_type": "code",
   "execution_count": 15,
   "metadata": {},
   "outputs": [
    {
     "name": "stdout",
     "output_type": "stream",
     "text": [
      "Xtrain shape (8166, 13)\n",
      "Ytrain shape (8166, 1)\n",
      "Xtest shape (4797, 13)\n",
      "Ytestshape (4797, 1)\n"
     ]
    }
   ],
   "source": [
    "newdata = newsample.drop(\"Exited\",axis=1)\n",
    "X=newdata.loc[:]\n",
    "Y=newsample.loc[:,[\"Exited\"]]\n",
    "\n",
    "X_train,X_test,Y_train,Y_test=train_test_split(X,Y,test_size=0.37,random_state=1) #Splitting into test and train\n",
    "print(\"Xtrain shape\",X_train.shape)\n",
    "print(\"Ytrain shape\",Y_train.shape)\n",
    "print(\"Xtest shape\",X_test.shape)\n",
    "print(\"Ytestshape\",Y_test.shape)"
   ]
  },
  {
   "cell_type": "code",
   "execution_count": 16,
   "metadata": {},
   "outputs": [],
   "source": [
    "from warnings import simplefilter\n",
    "# ignore all future warnings\n",
    "simplefilter(action='ignore', category=FutureWarning)"
   ]
  },
  {
   "cell_type": "markdown",
   "metadata": {},
   "source": [
    "## Bagging\n"
   ]
  },
  {
   "cell_type": "code",
   "execution_count": 56,
   "metadata": {},
   "outputs": [
    {
     "data": {
      "text/plain": [
       "BaggingClassifier(base_estimator=None, bootstrap=True, bootstrap_features=False,\n",
       "                  max_features=1.0, max_samples=1.0, n_estimators=10,\n",
       "                  n_jobs=None, oob_score=True, random_state=None, verbose=0,\n",
       "                  warm_start=False)"
      ]
     },
     "execution_count": 56,
     "metadata": {},
     "output_type": "execute_result"
    }
   ],
   "source": [
    "#Created a Bagged Decision Tree model object\n",
    "baggedModel =ensemble.BaggingClassifier(base_estimator=None,oob_score=True) \n",
    "baggedModel"
   ]
  },
  {
   "cell_type": "code",
   "execution_count": 57,
   "metadata": {},
   "outputs": [
    {
     "name": "stderr",
     "output_type": "stream",
     "text": [
      "C:\\ANACONDA\\lib\\site-packages\\sklearn\\ensemble\\bagging.py:611: UserWarning: Some inputs do not have OOB scores. This probably means too few estimators were used to compute any reliable oob estimates.\n",
      "  warn(\"Some inputs do not have OOB scores. \"\n",
      "C:\\ANACONDA\\lib\\site-packages\\sklearn\\ensemble\\bagging.py:616: RuntimeWarning: invalid value encountered in true_divide\n",
      "  predictions.sum(axis=1)[:, np.newaxis])\n"
     ]
    },
    {
     "data": {
      "text/plain": [
       "BaggingClassifier(base_estimator=None, bootstrap=True, bootstrap_features=False,\n",
       "                  max_features=1.0, max_samples=1.0, n_estimators=10,\n",
       "                  n_jobs=None, oob_score=True, random_state=None, verbose=0,\n",
       "                  warm_start=False)"
      ]
     },
     "execution_count": 57,
     "metadata": {},
     "output_type": "execute_result"
    }
   ],
   "source": [
    "baggedModel.fit(X_train,Y_train.values.ravel())"
   ]
  },
  {
   "cell_type": "code",
   "execution_count": 58,
   "metadata": {},
   "outputs": [
    {
     "name": "stdout",
     "output_type": "stream",
     "text": [
      "OOb score 0.869826108253735\n",
      "Accuarcy: 0.8936835522201376\n"
     ]
    }
   ],
   "source": [
    "print(\"OOb score\",baggedModel.oob_score_)\n",
    "base_accuracy = baggedModel.score(X_test,Y_test)\n",
    "pred = baggedModel.predict(X_test)\n",
    "baseaccuracy_bagged = sklearn.metrics.accuracy_score(Y_test,pred, normalize=True, sample_weight=None)\n",
    "print(\"Accuarcy:\",baseaccuracy_bagged)"
   ]
  },
  {
   "cell_type": "markdown",
   "metadata": {},
   "source": [
    "### Testing accuracy for different values of each hyperparameter"
   ]
  },
  {
   "cell_type": "markdown",
   "metadata": {},
   "source": [
    "### Max Sample size"
   ]
  },
  {
   "cell_type": "code",
   "execution_count": 68,
   "metadata": {},
   "outputs": [
    {
     "data": {
      "image/png": "[encoded data removed]",
      "text/plain": [
       "<Figure size 432x288 with 1 Axes>"
      ]
     },
     "metadata": {
      "needs_background": "light"
     },
     "output_type": "display_data"
    }
   ],
   "source": [
    "max_samplesbag= [30,50,100,200,500,1000]\n",
    "train_scores, test_scores = validation_curve(ensemble.BaggingClassifier(), X = X_train, y = Y_train.values.ravel(),\n",
    "                                            param_name = 'max_samples',param_range = max_samplesbag , cv = 3)\n",
    "train_scores_mean = np.mean(train_scores, axis=1)\n",
    "test_scores_mean = np.mean(test_scores, axis=1)\n",
    "\n",
    "plt.title(\"Validation Curve for Bagging \")\n",
    "plt.xlabel(\"values of max samples\")\n",
    "plt.ylabel(\"MeanScore\")\n",
    "lw = 2\n",
    "plt.plot(max_samplesbag, train_scores_mean, label=\"Training score\",color=\"darkorange\", lw=lw)\n",
    "plt.plot(max_samplesbag, test_scores_mean, label=\"Cross-validation score\",color=\"navy\", lw=lw)\n",
    "plt.legend(loc=\"best\")\n",
    "plt.show()"
   ]
  },
  {
   "cell_type": "code",
   "execution_count": 173,
   "metadata": {},
   "outputs": [
    {
     "data": {
      "image/png": "[encoded data removed]",
      "text/plain": [
       "<Figure size 432x288 with 1 Axes>"
      ]
     },
     "metadata": {
      "needs_background": "light"
     },
     "output_type": "display_data"
    }
   ],
   "source": [
    "max_samplesbag= [1000,2000,3000,3500,4000,5000]\n",
    "train_scores, test_scores = validation_curve(ensemble.BaggingClassifier(), X = X_train, y = Y_train.values.ravel(),\n",
    "                                            param_name = 'max_samples',param_range = max_samplesbag , cv = 3)\n",
    "train_scores_mean = np.mean(train_scores, axis=1)\n",
    "test_scores_mean = np.mean(test_scores, axis=1)\n",
    "\n",
    "plt.title(\"Validation Curve for Bagging \")\n",
    "plt.xlabel(\"values of max samples\")\n",
    "plt.ylabel(\"MeanScore\")\n",
    "lw = 2\n",
    "plt.plot(max_samplesbag, train_scores_mean, label=\"Training score\",color=\"darkorange\", lw=lw)\n",
    "plt.plot(max_samplesbag, test_scores_mean, label=\"Cross-validation score\",color=\"navy\", lw=lw)\n",
    "plt.legend(loc=\"best\")\n",
    "plt.show()"
   ]
  },
  {
   "cell_type": "markdown",
   "metadata": {},
   "source": [
    "Observation:\n",
    "        Accuracy is increasing with increase in sample size.best sample size is 5000"
   ]
  },
  {
   "cell_type": "markdown",
   "metadata": {},
   "source": [
    "### Max features"
   ]
  },
  {
   "cell_type": "code",
   "execution_count": 102,
   "metadata": {
    "scrolled": true
   },
   "outputs": [
    {
     "data": {
      "image/png": "[encoded data removed]",
      "text/plain": [
       "<Figure size 432x288 with 1 Axes>"
      ]
     },
     "metadata": {
      "needs_background": "light"
     },
     "output_type": "display_data"
    }
   ],
   "source": [
    "maxfeaturesbag= [i for i in range(1,14)]\n",
    "train_scores, test_scores = validation_curve(ensemble.BaggingClassifier(), X = X_train, y = Y_train.values.ravel(),\n",
    "                                            param_name = 'max_features',param_range = maxfeaturesbag , cv = 3)\n",
    "train_scores_mean = np.mean(train_scores, axis=1)\n",
    "test_scores_mean = np.mean(test_scores, axis=1)\n",
    "\n",
    "plt.title(\"Validation Curve for Bagging \")\n",
    "plt.xlabel(\"values of max features\")\n",
    "plt.ylabel(\"MeanScore\")\n",
    "lw = 2\n",
    "plt.plot(maxfeaturesbag, train_scores_mean, label=\"Training score\",color=\"darkorange\", lw=lw)\n",
    "plt.plot(maxfeaturesbag, test_scores_mean, label=\"Cross-validation score\",color=\"navy\", lw=lw)\n",
    "plt.legend(loc=\"best\")\n",
    "plt.show()"
   ]
  },
  {
   "cell_type": "code",
   "execution_count": 170,
   "metadata": {
    "scrolled": true
   },
   "outputs": [
    {
     "data": {
      "image/png": "[encoded data removed]",
      "text/plain": [
       "<Figure size 432x288 with 1 Axes>"
      ]
     },
     "metadata": {
      "needs_background": "light"
     },
     "output_type": "display_data"
    }
   ],
   "source": [
    "maxfeaturesbag= [2,5,8,10,11,13]\n",
    "train_scores, test_scores = validation_curve(ensemble.BaggingClassifier(), X = X_train, y = Y_train.values.ravel(),\n",
    "                                            param_name = 'max_features',param_range = maxfeaturesbag , cv = 3)\n",
    "train_scores_mean = np.mean(train_scores, axis=1)\n",
    "test_scores_mean = np.mean(test_scores, axis=1)\n",
    "\n",
    "plt.title(\"Validation Curve for Bagging \")\n",
    "plt.xlabel(\"values of max features\")\n",
    "plt.ylabel(\"MeanScore\")\n",
    "lw = 2\n",
    "plt.plot(maxfeaturesbag, train_scores_mean, label=\"Training score\",color=\"darkorange\", lw=lw)\n",
    "plt.plot(maxfeaturesbag, test_scores_mean, label=\"Cross-validation score\",color=\"navy\", lw=lw)\n",
    "plt.legend(loc=\"best\")\n",
    "plt.show()"
   ]
  },
  {
   "cell_type": "markdown",
   "metadata": {},
   "source": [
    "Observation: best max no of features is 11"
   ]
  },
  {
   "cell_type": "markdown",
   "metadata": {},
   "source": [
    "### No of estimators"
   ]
  },
  {
   "cell_type": "code",
   "execution_count": 21,
   "metadata": {},
   "outputs": [
    {
     "data": {
      "image/png": "[encoded data removed]",
      "text/plain": [
       "<Figure size 432x288 with 1 Axes>"
      ]
     },
     "metadata": {
      "needs_background": "light"
     },
     "output_type": "display_data"
    }
   ],
   "source": [
    "noofestimatorsbag = [50,70,100,120,170,500,1000,2000]\n",
    "train_scores, test_scores = validation_curve(ensemble.BaggingClassifier(), X = X_train, y = Y_train.values.ravel(),\n",
    "                                            param_name = 'n_estimators',param_range = noofestimatorsbag , cv = 3)\n",
    "train_scores_mean = np.mean(train_scores, axis=1)\n",
    "test_scores_mean = np.mean(test_scores, axis=1)\n",
    "\n",
    "plt.title(\"Validation Curve for Bagging \")\n",
    "plt.xlabel(\"values of no of estimators\")\n",
    "plt.ylabel(\"MeanScore\")\n",
    "lw = 2\n",
    "plt.plot(noofestimatorsbag, train_scores_mean, label=\"Training score\",color=\"darkorange\", lw=lw)\n",
    "plt.plot(noofestimatorsbag, test_scores_mean, label=\"Cross-validation score\",color=\"navy\", lw=lw)\n",
    "plt.legend(loc=\"best\")\n",
    "plt.show()"
   ]
  },
  {
   "cell_type": "markdown",
   "metadata": {},
   "source": [
    "Observation:\n",
    "         With very high no of estimators like above 1000; there was not much significant increase in accuracy."
   ]
  },
  {
   "cell_type": "code",
   "execution_count": 111,
   "metadata": {},
   "outputs": [
    {
     "data": {
      "image/png": "[encoded data removed]",
      "text/plain": [
       "<Figure size 432x288 with 1 Axes>"
      ]
     },
     "metadata": {
      "needs_background": "light"
     },
     "output_type": "display_data"
    }
   ],
   "source": [
    "noofestimatorsbag = [50,70,100,120,170,200]\n",
    "train_scores, test_scores = validation_curve(ensemble.BaggingClassifier(), X = X_train, y = Y_train.values.ravel(),\n",
    "                                            param_name = 'n_estimators',param_range = noofestimatorsbag , cv = 3)\n",
    "train_scores_mean = np.mean(train_scores, axis=1)\n",
    "test_scores_mean = np.mean(test_scores, axis=1)\n",
    "\n",
    "plt.title(\"Validation Curve for Bagging \")\n",
    "plt.xlabel(\"values of no of estimators\")\n",
    "plt.ylabel(\"MeanScore\")\n",
    "lw = 2\n",
    "plt.plot(noofestimatorsbag, train_scores_mean, label=\"Training score\",color=\"darkorange\", lw=lw)\n",
    "plt.plot(noofestimatorsbag, test_scores_mean, label=\"Cross-validation score\",color=\"navy\", lw=lw)\n",
    "plt.legend(loc=\"best\")\n",
    "plt.show()"
   ]
  },
  {
   "cell_type": "code",
   "execution_count": 94,
   "metadata": {},
   "outputs": [
    {
     "data": {
      "image/png": "[encoded data removed]",
      "text/plain": [
       "<Figure size 432x288 with 1 Axes>"
      ]
     },
     "metadata": {
      "needs_background": "light"
     },
     "output_type": "display_data"
    }
   ],
   "source": [
    "noofestimatorsbag = [200,500,700,900]\n",
    "train_scores, test_scores = validation_curve(ensemble.BaggingClassifier(), X = X_train, y = Y_train.values.ravel(),\n",
    "                                            param_name = 'n_estimators',param_range = noofestimatorsbag , cv = 3)\n",
    "train_scores_mean = np.mean(train_scores, axis=1)\n",
    "test_scores_mean = np.mean(test_scores, axis=1)\n",
    "\n",
    "plt.title(\"Validation Curve for Bagging \")\n",
    "plt.xlabel(\"values of no of estimators\")\n",
    "plt.ylabel(\"MeanScore\")\n",
    "lw = 2\n",
    "plt.plot(noofestimatorsbag, train_scores_mean, label=\"Training score\",color=\"darkorange\", lw=lw)\n",
    "plt.plot(noofestimatorsbag, test_scores_mean, label=\"Cross-validation score\",color=\"navy\", lw=lw)\n",
    "plt.legend(loc=\"best\")\n",
    "plt.show()"
   ]
  },
  {
   "cell_type": "markdown",
   "metadata": {},
   "source": [
    "Observation : best accuracy is at no of estimators = 500"
   ]
  },
  {
   "cell_type": "code",
   "execution_count": 98,
   "metadata": {},
   "outputs": [
    {
     "name": "stdout",
     "output_type": "stream",
     "text": [
      "OOb score 0.7612049963262307\n",
      "Accuracy 0.7665207421304983\n"
     ]
    }
   ],
   "source": [
    "#WITH max_samples = 50,no of estimators = 50\n",
    "baggedModel1 =ensemble.BaggingClassifier(base_estimator=None,max_samples=50,n_estimators=50,oob_score=True) \n",
    "baggedModel1.fit(X_train,Y_train.values.ravel())\n",
    "pred1=baggedModel.predict(X_test)\n",
    "print(\"OOb score\",baggedModel1.oob_score_)\n",
    "print(\"Accuracy\",baggedModel1.score(X_test,Y_test))"
   ]
  },
  {
   "cell_type": "code",
   "execution_count": 99,
   "metadata": {},
   "outputs": [
    {
     "name": "stdout",
     "output_type": "stream",
     "text": [
      "OOb score 0.8087190791084986\n",
      "Accuracy 0.8107150302272254\n"
     ]
    }
   ],
   "source": [
    "#WITH  max_samples =500,no of estimators =50\n",
    "baggedModel3 =ensemble.BaggingClassifier(base_estimator=None,max_samples=500,n_estimators=50,oob_score=True) \n",
    "baggedModel3.fit(X_train,Y_train.values.ravel())\n",
    "print(\"OOb score\",baggedModel3.oob_score_)\n",
    "print(\"Accuracy\",baggedModel3.score(X_test,Y_test))"
   ]
  },
  {
   "cell_type": "markdown",
   "metadata": {},
   "source": [
    "Observation : There was increase in accuracy with increase in max_samples from 50 to 500"
   ]
  },
  {
   "cell_type": "code",
   "execution_count": 100,
   "metadata": {},
   "outputs": [
    {
     "name": "stdout",
     "output_type": "stream",
     "text": [
      "OOb score 0.9066862601028656\n",
      "Accuracy 0.9053575151136126\n"
     ]
    }
   ],
   "source": [
    "#WITH no of estimators = 200\n",
    "baggedModel1 =ensemble.BaggingClassifier(base_estimator=None,n_estimators=200,oob_score=True) \n",
    "baggedModel1.fit(X_train,Y_train.values.ravel())\n",
    "pred1=baggedModel.predict(X_test)\n",
    "print(\"OOb score\",baggedModel1.oob_score_)\n",
    "print(\"Accuracy\",baggedModel1.score(X_test,Y_test))"
   ]
  },
  {
   "cell_type": "code",
   "execution_count": 27,
   "metadata": {},
   "outputs": [
    {
     "name": "stdout",
     "output_type": "stream",
     "text": [
      "OOb score 0.9087680626989958\n",
      "Accuracy 0.9159891598915989\n"
     ]
    }
   ],
   "source": [
    "#WITH no of estimators = 1000\n",
    "baggedModel7 =ensemble.BaggingClassifier(base_estimator=None,n_estimators=1000,oob_score=True) \n",
    "baggedModel7.fit(X_train,Y_train.values.ravel())\n",
    "pred1=baggedModel.predict(X_test)\n",
    "print(\"OOb score\",baggedModel7.oob_score_)\n",
    "print(\"Accuracy\",baggedModel7.score(X_test,Y_test))"
   ]
  },
  {
   "cell_type": "markdown",
   "metadata": {},
   "source": [
    "Observation : There was decrease in accuracy with increase in no of estimators from 100 to 500"
   ]
  },
  {
   "cell_type": "code",
   "execution_count": 97,
   "metadata": {},
   "outputs": [
    {
     "name": "stdout",
     "output_type": "stream",
     "text": [
      "OOb score 0.8488856233161891\n",
      "Accuracy 0.8763810715030227\n"
     ]
    }
   ],
   "source": [
    "#WITH MAX Features = 2,no of estimators =50\n",
    "baggedModel2 =ensemble.BaggingClassifier(base_estimator=None,max_features=2,n_estimators=50,oob_score=True) \n",
    "baggedModel2.fit(X_train,Y_train.values.ravel())\n",
    "print(\"OOb score\",baggedModel2.oob_score_)\n",
    "print(\"Accuracy\",baggedModel2.score(X_test,Y_test))"
   ]
  },
  {
   "cell_type": "code",
   "execution_count": 95,
   "metadata": {},
   "outputs": [
    {
     "name": "stdout",
     "output_type": "stream",
     "text": [
      "OOb score 0.9123193730100416\n",
      "Accuracy 0.9193245778611632\n"
     ]
    }
   ],
   "source": [
    "#WITH MAX Features =8,no of estimators =50\n",
    "baggedModel3 =ensemble.BaggingClassifier(base_estimator=None,max_features=8,n_estimators=50,oob_score=True) \n",
    "baggedModel3.fit(X_train,Y_train.values.ravel())\n",
    "print(\"OOb score\",baggedModel3.oob_score_)\n",
    "print(\"Accuracy\",baggedModel3.score(X_test,Y_test))"
   ]
  },
  {
   "cell_type": "markdown",
   "metadata": {},
   "source": [
    "Observation : \n",
    "With increase in no of max_features accuracy is increasing"
   ]
  },
  {
   "cell_type": "markdown",
   "metadata": {},
   "source": [
    "### Finding Best scores of hyper parameters Using Grid Search CV"
   ]
  },
  {
   "cell_type": "code",
   "execution_count": 21,
   "metadata": {},
   "outputs": [
    {
     "name": "stdout",
     "output_type": "stream",
     "text": [
      "{'n_estimators': [50, 70, 100, 120, 170, 200], 'max_features': [2, 5, 10, 13]}\n",
      "best params {'max_features': 10, 'n_estimators': 200}\n",
      "best score 0.9437370922603219\n",
      "Best estimator BaggingClassifier(base_estimator=None, bootstrap=True, bootstrap_features=False,\n",
      "                  max_features=10, max_samples=1.0, n_estimators=200,\n",
      "                  n_jobs=None, oob_score=False, random_state=None, verbose=0,\n",
      "                  warm_start=False)\n"
     ]
    }
   ],
   "source": [
    "n_estimators = [50,70,100,120,170,200]\n",
    "max_features = [2,5,10,13]\n",
    "tuned_parameters = {'n_estimators': n_estimators,\n",
    "               'max_features': max_features}\n",
    "print(tuned_parameters)\n",
    "\n",
    "random =ensemble.BaggingClassifier()\n",
    "random = GridSearchCV(random,param_grid=tuned_parameters,cv=3,scoring='roc_auc')\n",
    "random.fit(X_train,Y_train.values.ravel())\n",
    "print(\"best params\",random.best_params_)\n",
    "print(\"best score\",random.best_score_)\n",
    "print(\"Best estimator\",random.best_estimator_)"
   ]
  },
  {
   "cell_type": "code",
   "execution_count": 20,
   "metadata": {},
   "outputs": [
    {
     "name": "stdout",
     "output_type": "stream",
     "text": [
      "{'max_samples': [1000, 2000, 3000, 3500, 4000, 5000]}\n",
      "best params {'max_samples': 5000}\n",
      "best score 0.9188951647790311\n",
      "Best estimator BaggingClassifier(base_estimator=None, bootstrap=True, bootstrap_features=False,\n",
      "                  max_features=1.0, max_samples=5000, n_estimators=10,\n",
      "                  n_jobs=None, oob_score=False, random_state=None, verbose=0,\n",
      "                  warm_start=False)\n"
     ]
    }
   ],
   "source": [
    "max_samples=[1000,2000,3000,3500,4000,5000]\n",
    "tuned_parameters = {\n",
    "               'max_samples': max_samples}\n",
    "print(tuned_parameters)\n",
    "\n",
    "random =ensemble.BaggingClassifier()\n",
    "random = GridSearchCV(random,param_grid=tuned_parameters,cv=3,scoring='roc_auc')\n",
    "random.fit(X_train,Y_train.values.ravel())\n",
    "print(\"best params\",random.best_params_)\n",
    "print(\"best score\",random.best_score_)\n",
    "print(\"Best estimator\",random.best_estimator_)"
   ]
  },
  {
   "cell_type": "markdown",
   "metadata": {},
   "source": [
    "### Tuning the model with best scores of hyper parameters"
   ]
  },
  {
   "cell_type": "markdown",
   "metadata": {},
   "source": [
    "scores from grid search CV"
   ]
  },
  {
   "cell_type": "code",
   "execution_count": 34,
   "metadata": {},
   "outputs": [
    {
     "name": "stdout",
     "output_type": "stream",
     "text": [
      "OOb score 0.905339211364193\n",
      "Accuracy 0.9049405878674172\n"
     ]
    }
   ],
   "source": [
    "#WITH MAX Features =11,max_samples =5000,no of estimators =120,max_samples =5000\n",
    "baggedModel3 =ensemble.BaggingClassifier(max_features=11,max_samples=5000,n_estimators=120,oob_score=True) \n",
    "baggedModel3.fit(X_train,Y_train.values.ravel())\n",
    "print(\"OOb score\",baggedModel3.oob_score_)\n",
    "pred2 = baggedModel3.predict(X_test)\n",
    "grid_baggedaccuracy = sklearn.metrics.accuracy_score(Y_test,pred2, normalize=True, sample_weight=None)\n",
    "print(\"Accuracy\",grid_baggedaccuracy)"
   ]
  },
  {
   "cell_type": "code",
   "execution_count": 95,
   "metadata": {},
   "outputs": [
    {
     "name": "stdout",
     "output_type": "stream",
     "text": [
      "OOb score 0.9162380602498164\n",
      "Accuracy 0.9103606420679592\n"
     ]
    }
   ],
   "source": [
    "#max_features=10,max_samples=5000,n_estimators=500\n",
    "baggedModel3 =ensemble.BaggingClassifier(max_features=10,max_samples=5000,n_estimators=500,oob_score=True) \n",
    "baggedModel3.fit(X_train,Y_train.values.ravel())\n",
    "print(\"OOb score\",baggedModel3.oob_score_)\n",
    "pred2 = baggedModel3.predict(X_test)\n",
    "grid_baggedaccuracy = sklearn.metrics.accuracy_score(Y_test,pred2, normalize=True, sample_weight=None)\n",
    "print(\"Accuracy\",grid_baggedaccuracy)"
   ]
  },
  {
   "cell_type": "code",
   "execution_count": 100,
   "metadata": {},
   "outputs": [
    {
     "name": "stdout",
     "output_type": "stream",
     "text": [
      "              precision    recall  f1-score   support\n",
      "\n",
      "           0       0.93      0.92      0.93      2957\n",
      "           1       0.88      0.89      0.88      1840\n",
      "\n",
      "    accuracy                           0.91      4797\n",
      "   macro avg       0.90      0.91      0.91      4797\n",
      "weighted avg       0.91      0.91      0.91      4797\n",
      "\n"
     ]
    }
   ],
   "source": [
    "print(metrics.classification_report(Y_test,baggedModel3.predict(X_test)))"
   ]
  },
  {
   "cell_type": "code",
   "execution_count": 98,
   "metadata": {},
   "outputs": [
    {
     "name": "stdout",
     "output_type": "stream",
     "text": [
      "Improvement of Accuracy with tuning: 1.87%.\n"
     ]
    }
   ],
   "source": [
    "print('Improvement of Accuracy with tuning: {:0.2f}%.'.format( 100 * (grid_baggedaccuracy - baseaccuracy_bagged) / baseaccuracy_bagged))"
   ]
  },
  {
   "cell_type": "markdown",
   "metadata": {},
   "source": [
    "## Random Forests"
   ]
  },
  {
   "cell_type": "code",
   "execution_count": 41,
   "metadata": {
    "scrolled": true
   },
   "outputs": [
    {
     "name": "stdout",
     "output_type": "stream",
     "text": [
      "OOb score:  0.7473671320107764\n",
      "Accuarcy: 0.8538670002084636\n"
     ]
    },
    {
     "name": "stderr",
     "output_type": "stream",
     "text": [
      "C:\\ANACONDA\\lib\\site-packages\\sklearn\\ensemble\\forest.py:460: UserWarning: Some inputs do not have OOB scores. This probably means too few trees were used to compute any reliable oob estimates.\n",
      "  warn(\"Some inputs do not have OOB scores. \"\n",
      "C:\\ANACONDA\\lib\\site-packages\\sklearn\\ensemble\\forest.py:465: RuntimeWarning: invalid value encountered in true_divide\n",
      "  predictions[k].sum(axis=1)[:, np.newaxis])\n"
     ]
    }
   ],
   "source": [
    "#Before tuning\n",
    "randomForest = ensemble.RandomForestClassifier(n_estimators=2,oob_score=True)\n",
    "randomForest.fit(X_train,Y_train.values.ravel())\n",
    "print(\"OOb score: \",randomForest.oob_score_)\n",
    "pred = randomForest.predict(X_test)\n",
    "baseaccuracy_randomforest = sklearn.metrics.accuracy_score(Y_test,pred, normalize=True, sample_weight=None)\n",
    "print(\"Accuarcy:\",baseaccuracy_randomforest)\n"
   ]
  },
  {
   "cell_type": "code",
   "execution_count": 132,
   "metadata": {},
   "outputs": [
    {
     "name": "stdout",
     "output_type": "stream",
     "text": [
      "              precision    recall  f1-score   support\n",
      "\n",
      "           0       0.84      0.94      0.89      2994\n",
      "           1       0.88      0.70      0.78      1803\n",
      "\n",
      "    accuracy                           0.85      4797\n",
      "   macro avg       0.86      0.82      0.84      4797\n",
      "weighted avg       0.86      0.85      0.85      4797\n",
      "\n"
     ]
    }
   ],
   "source": [
    "print(metrics.classification_report(Y_test,randomForest.predict(X_test)))"
   ]
  },
  {
   "cell_type": "markdown",
   "metadata": {},
   "source": [
    "### checking the accuracy for different values of hyperparameters"
   ]
  },
  {
   "cell_type": "markdown",
   "metadata": {},
   "source": [
    "### Min Samples for Split"
   ]
  },
  {
   "cell_type": "code",
   "execution_count": 44,
   "metadata": {},
   "outputs": [
    {
     "data": {
      "image/png": "[encoded data removed]",
      "text/plain": [
       "<Figure size 432x288 with 1 Axes>"
      ]
     },
     "metadata": {
      "needs_background": "light"
     },
     "output_type": "display_data"
    }
   ],
   "source": [
    "min_samples_split= [5,7,11,12,15,20]\n",
    "train_scores, test_scores = validation_curve(RandomForestClassifier(), X = X_train, y = Y_train.values.ravel(),\n",
    "                                            param_name = 'min_samples_split',param_range = min_samples_split , cv = 3)\n",
    "train_scores_mean = np.mean(train_scores, axis=1)\n",
    "test_scores_mean = np.mean(test_scores, axis=1)\n",
    "\n",
    "plt.title(\"Validation Curve for Random forest \")\n",
    "plt.xlabel(\"values of min samples for split\")\n",
    "plt.ylabel(\"MeanScore\")\n",
    "lw = 2\n",
    "plt.plot(min_samples_split, train_scores_mean, label=\"Training score\",color=\"darkorange\", lw=lw)\n",
    "plt.plot(min_samples_split, test_scores_mean, label=\"Cross-validation score\",color=\"navy\", lw=lw)\n",
    "plt.legend(loc=\"best\")\n",
    "plt.show()"
   ]
  },
  {
   "cell_type": "markdown",
   "metadata": {},
   "source": [
    " Observation : Mean score is decreasing with increase in Min sample split for both validation and train"
   ]
  },
  {
   "cell_type": "code",
   "execution_count": 145,
   "metadata": {
    "scrolled": true
   },
   "outputs": [
    {
     "data": {
      "image/png": "[encoded data removed]",
      "text/plain": [
       "<Figure size 432x288 with 1 Axes>"
      ]
     },
     "metadata": {
      "needs_background": "light"
     },
     "output_type": "display_data"
    }
   ],
   "source": [
    "min_samples_split= [2,3,4,5,6]\n",
    "train_scores, test_scores = validation_curve(RandomForestClassifier(), X = X_train, y = Y_train.values.ravel(),\n",
    "                                            param_name = 'min_samples_split',param_range = min_samples_split , cv = 3)\n",
    "train_scores_mean = np.mean(train_scores, axis=1)\n",
    "test_scores_mean = np.mean(test_scores, axis=1)\n",
    "\n",
    "plt.title(\"Validation Curve for Random forest \")\n",
    "plt.xlabel(\"values of min samples for split\")\n",
    "plt.ylabel(\"MeanScore\")\n",
    "lw = 2\n",
    "plt.plot(min_samples_split, train_scores_mean, label=\"Training score\",color=\"darkorange\", lw=lw)\n",
    "plt.plot(min_samples_split, test_scores_mean, label=\"Cross-validation score\",color=\"navy\", lw=lw)\n",
    "plt.legend(loc=\"best\")\n",
    "plt.show()"
   ]
  },
  {
   "cell_type": "markdown",
   "metadata": {},
   "source": [
    "Observation:Best min sample split is 2or 3\n",
    "mean score went down for both the training and cross-validation sets for higher values of min_samples_split"
   ]
  },
  {
   "cell_type": "markdown",
   "metadata": {},
   "source": [
    "## Max Depth"
   ]
  },
  {
   "cell_type": "code",
   "execution_count": 48,
   "metadata": {},
   "outputs": [
    {
     "data": {
      "image/png": "[encoded data removed]",
      "text/plain": [
       "<Figure size 432x288 with 1 Axes>"
      ]
     },
     "metadata": {
      "needs_background": "light"
     },
     "output_type": "display_data"
    }
   ],
   "source": [
    "maxdepth= [5,10,13,18,20,30,50]\n",
    "train_scores, test_scores = validation_curve(RandomForestClassifier(),X = X_train, y = Y_train.values.ravel(), \n",
    "                                param_name = 'max_depth',param_range = maxdepth , cv = 3)\n",
    "\n",
    "train_scores_mean = np.mean(train_scores, axis=1)\n",
    "test_scores_mean = np.mean(test_scores, axis=1)\n",
    "\n",
    "plt.title(\"Validation Curve for Random forest \")\n",
    "plt.xlabel(\"values of max depth\")\n",
    "plt.ylabel(\"MeanScore\")\n",
    "lw = 2\n",
    "plt.plot(maxdepth, train_scores_mean, label=\"Training score\",color=\"darkorange\", lw=lw)\n",
    "plt.plot(maxdepth, test_scores_mean, label=\"Cross-validation score\",color=\"navy\", lw=lw)\n",
    "plt.legend(loc=\"best\")\n",
    "plt.show()"
   ]
  },
  {
   "cell_type": "markdown",
   "metadata": {},
   "source": [
    "Mean Score increased from 0-20 depth ,after a max depth of 18 the accuracy remained constant for both validation and train."
   ]
  },
  {
   "cell_type": "code",
   "execution_count": 147,
   "metadata": {
    "scrolled": true
   },
   "outputs": [
    {
     "data": {
      "image/png": "[encoded data removed]",
      "text/plain": [
       "<Figure size 432x288 with 1 Axes>"
      ]
     },
     "metadata": {
      "needs_background": "light"
     },
     "output_type": "display_data"
    }
   ],
   "source": [
    "maxdepth= [11,13,15,17,18,20]\n",
    "train_scores, test_scores = validation_curve(RandomForestClassifier(),X = X_train, y = Y_train.values.ravel(), \n",
    "                                param_name = 'max_depth',param_range = maxdepth , cv = 3)\n",
    "\n",
    "train_scores_mean = np.mean(train_scores, axis=1)\n",
    "test_scores_mean = np.mean(test_scores, axis=1)\n",
    "\n",
    "plt.title(\"Validation Curve for Random forest \")\n",
    "plt.xlabel(\"values of max depth\")\n",
    "plt.ylabel(\"MeanScore\")\n",
    "lw = 2\n",
    "plt.plot(maxdepth, train_scores_mean, label=\"Training score\",color=\"darkorange\", lw=lw)\n",
    "plt.plot(maxdepth, test_scores_mean, label=\"Cross-validation score\",color=\"navy\", lw=lw)\n",
    "plt.legend(loc=\"best\")\n",
    "plt.show()"
   ]
  },
  {
   "cell_type": "markdown",
   "metadata": {},
   "source": [
    "best max depth is at 18"
   ]
  },
  {
   "cell_type": "markdown",
   "metadata": {},
   "source": [
    "## Max Features"
   ]
  },
  {
   "cell_type": "code",
   "execution_count": 149,
   "metadata": {
    "scrolled": true
   },
   "outputs": [
    {
     "data": {
      "image/png": "[encoded data removed]",
      "text/plain": [
       "<Figure size 432x288 with 1 Axes>"
      ]
     },
     "metadata": {
      "needs_background": "light"
     },
     "output_type": "display_data"
    }
   ],
   "source": [
    "maxfeatures= [2,4,5,6,7,8,9]\n",
    "train_scores, test_scores = validation_curve(RandomForestClassifier(), X = X_train, y = Y_train.values.ravel(),\n",
    "                                            param_name = 'max_features',param_range = maxfeatures , cv = 3)\n",
    "train_scores_mean = np.mean(train_scores, axis=1)\n",
    "test_scores_mean = np.mean(test_scores, axis=1)\n",
    "\n",
    "plt.title(\"Validation Curve for Random forest \")\n",
    "plt.xlabel(\"values of max_features\")\n",
    "plt.ylabel(\"MeanScore\")\n",
    "lw = 2\n",
    "plt.plot(maxfeatures, train_scores_mean, label=\"Training score\",color=\"darkorange\", lw=lw)\n",
    "plt.plot(maxfeatures, test_scores_mean, label=\"Cross-validation score\",color=\"navy\", lw=lw)\n",
    "plt.legend(loc=\"best\")\n",
    "plt.show()"
   ]
  },
  {
   "cell_type": "markdown",
   "metadata": {},
   "source": [
    "best  no of features is 8"
   ]
  },
  {
   "cell_type": "markdown",
   "metadata": {},
   "source": [
    "### No of estimators"
   ]
  },
  {
   "cell_type": "code",
   "execution_count": 23,
   "metadata": {},
   "outputs": [
    {
     "data": {
      "image/png": "[encoded data removed]",
      "text/plain": [
       "<Figure size 432x288 with 1 Axes>"
      ]
     },
     "metadata": {
      "needs_background": "light"
     },
     "output_type": "display_data"
    }
   ],
   "source": [
    "noofestimators= [50,70,100,120,200,500]\n",
    "train_scores, test_scores = validation_curve(RandomForestClassifier(),X = X_train, y = Y_train.values.ravel(), \n",
    "                                             param_name = 'n_estimators',param_range = noofestimators , cv = 3)\n",
    "\n",
    "train_scores_mean = np.mean(train_scores, axis=1)\n",
    "test_scores_mean = np.mean(test_scores, axis=1)\n",
    "\n",
    "plt.title(\"Validation Curve for Random forest \")\n",
    "plt.xlabel(\"values of no of estimators\")\n",
    "plt.ylabel(\"MeanScore\")\n",
    "lw = 2\n",
    "plt.plot(noofestimators, train_scores_mean, label=\"Training score\",color=\"darkorange\", lw=lw)\n",
    "plt.plot(noofestimators, test_scores_mean, label=\"Cross-validation score\",color=\"navy\", lw=lw)\n",
    "plt.legend(loc=\"best\")\n",
    "plt.show()"
   ]
  },
  {
   "cell_type": "code",
   "execution_count": 138,
   "metadata": {
    "scrolled": true
   },
   "outputs": [
    {
     "data": {
      "image/png": "[encoded data removed]",
      "text/plain": [
       "<Figure size 432x288 with 1 Axes>"
      ]
     },
     "metadata": {
      "needs_background": "light"
     },
     "output_type": "display_data"
    }
   ],
   "source": [
    "noofestimators= [50,70,100,120,150,180,200]\n",
    "train_scores, test_scores = validation_curve(RandomForestClassifier(),X = X_train, y = Y_train.values.ravel(), \n",
    "                                             param_name = 'n_estimators',param_range = noofestimators , cv = 3)\n",
    "\n",
    "train_scores_mean = np.mean(train_scores, axis=1)\n",
    "test_scores_mean = np.mean(test_scores, axis=1)\n",
    "\n",
    "plt.title(\"Validation Curve for Random forest \")\n",
    "plt.xlabel(\"values of no of estimators\")\n",
    "plt.ylabel(\"MeanScore\")\n",
    "lw = 2\n",
    "plt.plot(noofestimators, train_scores_mean, label=\"Training score\",color=\"darkorange\", lw=lw)\n",
    "plt.plot(noofestimators, test_scores_mean, label=\"Cross-validation score\",color=\"navy\", lw=lw)\n",
    "plt.legend(loc=\"best\")\n",
    "plt.show()"
   ]
  },
  {
   "cell_type": "markdown",
   "metadata": {},
   "source": [
    "As number of estimators are increasing the accuracy is decreasing.Best no of estimators is 150"
   ]
  },
  {
   "cell_type": "markdown",
   "metadata": {},
   "source": [
    "## Min Samples Leaf"
   ]
  },
  {
   "cell_type": "code",
   "execution_count": 52,
   "metadata": {},
   "outputs": [
    {
     "data": {
      "image/png": "[encoded data removed]",
      "text/plain": [
       "<Figure size 432x288 with 1 Axes>"
      ]
     },
     "metadata": {
      "needs_background": "light"
     },
     "output_type": "display_data"
    }
   ],
   "source": [
    "minsamples= [2,5,7,9,13,20,50]\n",
    "train_scores, test_scores = validation_curve(RandomForestClassifier(), X = X_train, y = Y_train.values.ravel(),\n",
    "                                            param_name = 'min_samples_leaf',param_range = minsamples , cv = 3)\n",
    "train_scores_mean = np.mean(train_scores, axis=1)\n",
    "test_scores_mean = np.mean(test_scores, axis=1)\n",
    "\n",
    "plt.title(\"Validation Curve for Random forest \")\n",
    "plt.xlabel(\"values of min samples in leaf node\")\n",
    "plt.ylabel(\"MeanScore\")\n",
    "lw = 2\n",
    "plt.plot(minsamples, train_scores_mean, label=\"Training score\",color=\"darkorange\", lw=lw)\n",
    "plt.plot(minsamples, test_scores_mean, label=\"Cross-validation score\",color=\"navy\", lw=lw)\n",
    "plt.legend(loc=\"best\")\n",
    "plt.show()"
   ]
  },
  {
   "cell_type": "code",
   "execution_count": 140,
   "metadata": {
    "scrolled": true
   },
   "outputs": [
    {
     "data": {
      "image/png": "[encoded data removed]",
      "text/plain": [
       "<Figure size 432x288 with 1 Axes>"
      ]
     },
     "metadata": {
      "needs_background": "light"
     },
     "output_type": "display_data"
    }
   ],
   "source": [
    "minsamples= [i for i in range(2,10)]\n",
    "train_scores, test_scores = validation_curve(RandomForestClassifier(), X = X_train, y = Y_train.values.ravel(),\n",
    "                                            param_name = 'min_samples_leaf',param_range = minsamples , cv = 3)\n",
    "train_scores_mean = np.mean(train_scores, axis=1)\n",
    "test_scores_mean = np.mean(test_scores, axis=1)\n",
    "\n",
    "plt.title(\"Validation Curve for Random forest \")\n",
    "plt.xlabel(\"values of min samples in leaf node\")\n",
    "plt.ylabel(\"MeanScore\")\n",
    "lw = 2\n",
    "plt.plot(minsamples, train_scores_mean, label=\"Training score\",color=\"darkorange\", lw=lw)\n",
    "plt.plot(minsamples, test_scores_mean, label=\"Cross-validation score\",color=\"navy\", lw=lw)\n",
    "plt.legend(loc=\"best\")\n",
    "plt.show()"
   ]
  },
  {
   "cell_type": "markdown",
   "metadata": {},
   "source": [
    "best min samples 2 ,As no of min samples in node is increasing accuracy is decreasing"
   ]
  },
  {
   "cell_type": "markdown",
   "metadata": {},
   "source": [
    "### Max_leaf_nodes"
   ]
  },
  {
   "cell_type": "code",
   "execution_count": 49,
   "metadata": {},
   "outputs": [
    {
     "data": {
      "image/png": "[encoded data removed]",
      "text/plain": [
       "<Figure size 432x288 with 1 Axes>"
      ]
     },
     "metadata": {
      "needs_background": "light"
     },
     "output_type": "display_data"
    }
   ],
   "source": [
    "max_leaf_nodes=[2,4,7,9,11,20,40]\n",
    "train_scores, test_scores = validation_curve(RandomForestClassifier(), X = X_train, y = Y_train.values.ravel(),\n",
    "                                            param_name = 'max_leaf_nodes',param_range = max_leaf_nodes, cv = 3)\n",
    "train_scores_mean = np.mean(train_scores, axis=1)\n",
    "test_scores_mean = np.mean(test_scores, axis=1)\n",
    "\n",
    "plt.title(\"Validation Curve for Random forest \")\n",
    "plt.xlabel(\"values of max leaf nodes\")\n",
    "plt.ylabel(\"MeanScore\")\n",
    "lw = 2\n",
    "plt.plot(max_leaf_nodes, train_scores_mean, label=\"Training score\",color=\"darkorange\", lw=lw)\n",
    "plt.plot(max_leaf_nodes, test_scores_mean, label=\"Cross-validation score\",color=\"navy\", lw=lw)\n",
    "plt.legend(loc=\"best\")\n",
    "plt.show()"
   ]
  },
  {
   "cell_type": "markdown",
   "metadata": {},
   "source": [
    "Observation : Accuracy increases with increase in max leaf nodes"
   ]
  },
  {
   "cell_type": "code",
   "execution_count": 153,
   "metadata": {},
   "outputs": [
    {
     "data": {
      "image/png": "[encoded data removed]",
      "text/plain": [
       "<Figure size 432x288 with 1 Axes>"
      ]
     },
     "metadata": {
      "needs_background": "light"
     },
     "output_type": "display_data"
    }
   ],
   "source": [
    "max_leaf_nodes=[40,70,100,120,200,300,500,1000,2000,3000]\n",
    "train_scores, test_scores = validation_curve(RandomForestClassifier(), X = X_train, y = Y_train.values.ravel(),\n",
    "                                            param_name = 'max_leaf_nodes',param_range = max_leaf_nodes, cv = 3)\n",
    "train_scores_mean = np.mean(train_scores, axis=1)\n",
    "test_scores_mean = np.mean(test_scores, axis=1)\n",
    "\n",
    "plt.title(\"Validation Curve for Random forest \")\n",
    "plt.xlabel(\"values of max leaf nodes\")\n",
    "plt.ylabel(\"MeanScore\")\n",
    "lw = 2\n",
    "plt.plot(max_leaf_nodes, train_scores_mean, label=\"Training score\",color=\"darkorange\", lw=lw)\n",
    "plt.plot(max_leaf_nodes, test_scores_mean, label=\"Cross-validation score\",color=\"navy\", lw=lw)\n",
    "plt.legend(loc=\"best\")\n",
    "plt.show()"
   ]
  },
  {
   "cell_type": "markdown",
   "metadata": {},
   "source": [
    "Accuracy is increased drastically with increase in no of leaf nodes.\n",
    "best max leaf nodes is 1000"
   ]
  },
  {
   "cell_type": "markdown",
   "metadata": {},
   "source": [
    "### Testing the accuracy for different values of each Hyper parameter"
   ]
  },
  {
   "cell_type": "code",
   "execution_count": 29,
   "metadata": {},
   "outputs": [
    {
     "name": "stdout",
     "output_type": "stream",
     "text": [
      "OOb score:  0.8589272593681117\n",
      "Accuracy :  0.8619970815092767\n"
     ]
    }
   ],
   "source": [
    "randomForest1 = ensemble.RandomForestClassifier(min_samples_leaf=5,oob_score=True)\n",
    "randomForest1.fit(X_train,Y_train.values.ravel())\n",
    "print(\"OOb score: \",randomForest1.oob_score_)\n",
    "print(\"Accuracy : \",randomForest1.score(X_test,Y_test.values.ravel()))"
   ]
  },
  {
   "cell_type": "code",
   "execution_count": 30,
   "metadata": {},
   "outputs": [
    {
     "name": "stdout",
     "output_type": "stream",
     "text": [
      "OOb score:  0.8292921871173157\n",
      "Accuracy :  0.8340629560141756\n"
     ]
    }
   ],
   "source": [
    "randomForest2 = ensemble.RandomForestClassifier(min_samples_leaf=10,oob_score=True)\n",
    "randomForest2.fit(X_train,Y_train.values.ravel())\n",
    "print(\"OOb score: \",randomForest2.oob_score_)\n",
    "print(\"Accuracy : \",randomForest2.score(X_test,Y_test.values.ravel()))"
   ]
  },
  {
   "cell_type": "markdown",
   "metadata": {},
   "source": [
    "Observation: As no of min sample leaves and no of estimators increase accuracy is decreasing"
   ]
  },
  {
   "cell_type": "code",
   "execution_count": 36,
   "metadata": {},
   "outputs": [
    {
     "name": "stdout",
     "output_type": "stream",
     "text": [
      "OOb score:  0.85513103110458\n",
      "Accuracy :  0.8528246820929748\n"
     ]
    }
   ],
   "source": [
    "randomForest3 = ensemble.RandomForestClassifier(n_estimators=50,max_features=3,min_samples_split=20,oob_score=True)\n",
    "randomForest3.fit(X_train,Y_train.values.ravel())\n",
    "print(\"OOb score: \",randomForest3.oob_score_)\n",
    "print(\"Accuracy : \",randomForest3.score(X_test,Y_test.values.ravel()))"
   ]
  },
  {
   "cell_type": "code",
   "execution_count": 37,
   "metadata": {},
   "outputs": [
    {
     "name": "stdout",
     "output_type": "stream",
     "text": [
      "OOb score:  0.828679892236101\n",
      "Accuracy :  0.8267667292057536\n"
     ]
    }
   ],
   "source": [
    "randomForest4 = ensemble.RandomForestClassifier(n_estimators=50,max_features=10,min_samples_split=50,oob_score=True)\n",
    "randomForest4.fit(X_train,Y_train.values.ravel())\n",
    "print(\"OOb score: \",randomForest4.oob_score_)\n",
    "print(\"Accuracy : \",randomForest4.score(X_test,Y_test.values.ravel()))"
   ]
  },
  {
   "cell_type": "markdown",
   "metadata": {},
   "source": [
    "As no of min sample split ,max features increase accuracy is decreasing"
   ]
  },
  {
   "cell_type": "code",
   "execution_count": 43,
   "metadata": {},
   "outputs": [
    {
     "name": "stdout",
     "output_type": "stream",
     "text": [
      "OOb score:  0.807739407298555\n",
      "Accuracy :  0.8075880758807588\n"
     ]
    }
   ],
   "source": [
    "randomForest4 = ensemble.RandomForestClassifier(n_estimators=50,max_depth=7,oob_score=True)\n",
    "randomForest4.fit(X_train,Y_train.values.ravel())\n",
    "print(\"OOb score: \",randomForest4.oob_score_)\n",
    "print(\"Accuracy : \",randomForest4.score(X_test,Y_test.values.ravel()))"
   ]
  },
  {
   "cell_type": "code",
   "execution_count": 46,
   "metadata": {},
   "outputs": [
    {
     "name": "stdout",
     "output_type": "stream",
     "text": [
      "OOb score:  0.9109723242713691\n",
      "Accuracy :  0.9170314780070877\n"
     ]
    }
   ],
   "source": [
    "randomForest5 = ensemble.RandomForestClassifier(n_estimators=50,max_depth=30,oob_score=True)\n",
    "randomForest5.fit(X_train,Y_train.values.ravel())\n",
    "print(\"OOb score: \",randomForest5.oob_score_)\n",
    "print(\"Accuracy : \",randomForest5.score(X_test,Y_test.values.ravel()))"
   ]
  },
  {
   "cell_type": "markdown",
   "metadata": {},
   "source": [
    "As depth of the tree is increasing accuracy is increasing"
   ]
  },
  {
   "cell_type": "markdown",
   "metadata": {},
   "source": [
    "### Using Grid Search CV"
   ]
  },
  {
   "cell_type": "code",
   "execution_count": 44,
   "metadata": {
    "scrolled": true
   },
   "outputs": [
    {
     "name": "stdout",
     "output_type": "stream",
     "text": [
      "best params {'max_leaf_nodes': 1000, 'n_estimators': 120}\n",
      "best score 0.9417776395091579\n"
     ]
    }
   ],
   "source": [
    "tuned_parameters2 =[{'max_leaf_nodes':[40,100,120,300,500,1000],'n_estimators':[50,100,120,150,180,200]}]\n",
    "randomforest6 = RandomForestClassifier()\n",
    "randomforest6 = GridSearchCV(randomforest6,tuned_parameters2,cv=3,scoring='roc_auc')\n",
    "randomforest6.fit(X_train,Y_train.values.ravel())\n",
    "print(\"best params\",randomforest6.best_params_)\n",
    "print(\"best score\",randomforest6.best_score_)"
   ]
  },
  {
   "cell_type": "code",
   "execution_count": 45,
   "metadata": {
    "scrolled": true
   },
   "outputs": [
    {
     "name": "stdout",
     "output_type": "stream",
     "text": [
      "best params {'max_depth': 17, 'min_samples_leaf': 2}\n",
      "best score 0.9164463198911985\n"
     ]
    }
   ],
   "source": [
    "tuned_parameters3 =[{'max_depth':[11,13,15,17,18,20],'min_samples_leaf':[2,3,5,7,9]}]\n",
    "randomforest6 = RandomForestClassifier()\n",
    "randomforest6 = GridSearchCV(randomforest6,tuned_parameters3,cv=3,scoring='roc_auc')\n",
    "randomforest6.fit(X_train,Y_train.values.ravel())\n",
    "print(\"best params\",randomforest6.best_params_)\n",
    "print(\"best score\",randomforest6.best_score_)\n"
   ]
  },
  {
   "cell_type": "code",
   "execution_count": 46,
   "metadata": {},
   "outputs": [
    {
     "name": "stdout",
     "output_type": "stream",
     "text": [
      "best params {'max_features': 4, 'min_samples_split': 2}\n",
      "best score 0.9255419827364201\n"
     ]
    }
   ],
   "source": [
    "tuned_parameters3 =[{'min_samples_split':[2,3,4,5,6],'max_features' : [2,4,5,6,7,8,9]}]\n",
    "randomforest6 = RandomForestClassifier()\n",
    "randomforest6 = GridSearchCV(randomforest6,tuned_parameters3,cv=3,scoring='roc_auc')\n",
    "randomforest6.fit(X_train,Y_train.values.ravel())\n",
    "print(\"best params\",randomforest6.best_params_)\n",
    "print(\"best score\",randomforest6.best_score_)"
   ]
  },
  {
   "cell_type": "markdown",
   "metadata": {},
   "source": [
    "### Tuning the model with best hyper parameters"
   ]
  },
  {
   "cell_type": "code",
   "execution_count": 47,
   "metadata": {},
   "outputs": [
    {
     "name": "stdout",
     "output_type": "stream",
     "text": [
      "OOb score:  0.9003183933382317\n",
      "Accuarcy: 0.8920158432353554\n"
     ]
    }
   ],
   "source": [
    "randomForestbest = ensemble.RandomForestClassifier(max_leaf_nodes=1000,max_depth=20,max_features=6,min_samples_split=3,min_samples_leaf=2,n_estimators=120,oob_score=True)\n",
    "randomForestbest.fit(X_train,Y_train.values.ravel())\n",
    "print(\"OOb score: \",randomForestbest.oob_score_)\n",
    "pred = randomForestbest.predict(X_test)\n",
    "grid_randomforest1 = sklearn.metrics.accuracy_score(Y_test,pred, normalize=True, sample_weight=None)\n",
    "print(\"Accuarcy:\",grid_randomforest1)"
   ]
  },
  {
   "cell_type": "code",
   "execution_count": 53,
   "metadata": {},
   "outputs": [
    {
     "name": "stdout",
     "output_type": "stream",
     "text": [
      "OOb score:  0.8972569189321578\n",
      "Accuarcy: 0.8899312070043778\n"
     ]
    }
   ],
   "source": [
    "randomForestbest = ensemble.RandomForestClassifier(max_leaf_nodes=1000,max_depth=18,max_features=8,min_samples_split=2,min_samples_leaf=2,n_estimators=150,oob_score=True)\n",
    "randomForestbest.fit(X_train,Y_train.values.ravel())\n",
    "print(\"OOb score: \",randomForestbest.oob_score_)\n",
    "pred = randomForestbest.predict(X_test)\n",
    "grid_randomforest = sklearn.metrics.accuracy_score(Y_test,pred, normalize=True, sample_weight=None)\n",
    "print(\"Accuarcy:\",grid_randomforest)"
   ]
  },
  {
   "cell_type": "code",
   "execution_count": 101,
   "metadata": {},
   "outputs": [
    {
     "name": "stdout",
     "output_type": "stream",
     "text": [
      "              precision    recall  f1-score   support\n",
      "\n",
      "           0       0.91      0.91      0.91      2957\n",
      "           1       0.86      0.86      0.86      1840\n",
      "\n",
      "    accuracy                           0.89      4797\n",
      "   macro avg       0.88      0.88      0.88      4797\n",
      "weighted avg       0.89      0.89      0.89      4797\n",
      "\n"
     ]
    }
   ],
   "source": [
    "print(metrics.classification_report(Y_test,randomForestbest.predict(X_test)))"
   ]
  },
  {
   "cell_type": "code",
   "execution_count": 54,
   "metadata": {},
   "outputs": [
    {
     "name": "stdout",
     "output_type": "stream",
     "text": [
      "Improvement of 4.47%\n"
     ]
    }
   ],
   "source": [
    "print('Improvement of {:0.2f}%'.format( 100 * (grid_randomforest1 - baseaccuracy_randomforest) / baseaccuracy_randomforest))"
   ]
  },
  {
   "cell_type": "markdown",
   "metadata": {},
   "source": [
    "# Adaboost"
   ]
  },
  {
   "cell_type": "code",
   "execution_count": 85,
   "metadata": {},
   "outputs": [
    {
     "data": {
      "text/plain": [
       "AdaBoostClassifier(algorithm='SAMME.R', base_estimator=None, learning_rate=0.1,\n",
       "                   n_estimators=50, random_state=None)"
      ]
     },
     "execution_count": 85,
     "metadata": {},
     "output_type": "execute_result"
    }
   ],
   "source": [
    "adaBoost = ensemble.AdaBoostClassifier(learning_rate=0.1)\n",
    "adaBoost"
   ]
  },
  {
   "cell_type": "code",
   "execution_count": 86,
   "metadata": {},
   "outputs": [
    {
     "data": {
      "text/plain": [
       "AdaBoostClassifier(algorithm='SAMME.R', base_estimator=None, learning_rate=0.1,\n",
       "                   n_estimators=50, random_state=None)"
      ]
     },
     "execution_count": 86,
     "metadata": {},
     "output_type": "execute_result"
    }
   ],
   "source": [
    "adaBoost.fit(X_train,Y_train.values.ravel())"
   ]
  },
  {
   "cell_type": "code",
   "execution_count": 87,
   "metadata": {},
   "outputs": [
    {
     "name": "stdout",
     "output_type": "stream",
     "text": [
      "Accuarcy: 0.7763185324160934\n"
     ]
    }
   ],
   "source": [
    "#base_accuracy = adaBoost.score(X_test,Y_test.values.ravel())\n",
    "#base_accuracy\n",
    "pred = adaBoost.predict(X_test)\n",
    "base_adaBoost = sklearn.metrics.accuracy_score(Y_test,pred, normalize=True, sample_weight=None)\n",
    "print(\"Accuarcy:\",base_adaBoost)"
   ]
  },
  {
   "cell_type": "markdown",
   "metadata": {},
   "source": [
    "### No of Estimators"
   ]
  },
  {
   "cell_type": "code",
   "execution_count": 55,
   "metadata": {},
   "outputs": [
    {
     "data": {
      "image/png": "[encoded data removed]",
      "text/plain": [
       "<Figure size 432x288 with 1 Axes>"
      ]
     },
     "metadata": {
      "needs_background": "light"
     },
     "output_type": "display_data"
    }
   ],
   "source": [
    "no_estimators_adaboost = [50,100,120,170,200]\n",
    "train_scores, test_scores = validation_curve(AdaBoostClassifier(), X = X_train, y = Y_train.values.ravel(),\n",
    "                                            param_name = 'n_estimators',param_range = no_estimators_adaboost , cv = 3)\n",
    "train_scores_mean = np.mean(train_scores, axis=1)\n",
    "test_scores_mean = np.mean(test_scores, axis=1)\n",
    "\n",
    "plt.title(\"Validation Curve for Adaboost \")\n",
    "plt.xlabel(\"values of no of estimators\")\n",
    "plt.ylabel(\"MeanScore\")\n",
    "lw = 2\n",
    "plt.plot(no_estimators_adaboost, train_scores_mean, label=\"Training score\",color=\"darkorange\", lw=lw)\n",
    "plt.plot(no_estimators_adaboost, test_scores_mean, label=\"Cross-validation score\",color=\"navy\", lw=lw)\n",
    "plt.legend(loc=\"best\")\n",
    "plt.show()"
   ]
  },
  {
   "cell_type": "code",
   "execution_count": 17,
   "metadata": {},
   "outputs": [
    {
     "data": {
      "image/png": "[encoded data removed]",
      "text/plain": [
       "<Figure size 432x288 with 1 Axes>"
      ]
     },
     "metadata": {
      "needs_background": "light"
     },
     "output_type": "display_data"
    }
   ],
   "source": [
    "no_estimators_adaboost = [500,700,1000,2000,3000,4000]\n",
    "train_scores, test_scores = validation_curve(AdaBoostClassifier(), X = X_train, y = Y_train.values.ravel(),\n",
    "                                            param_name = 'n_estimators',param_range = no_estimators_adaboost , cv = 3)\n",
    "train_scores_mean = np.mean(train_scores, axis=1)\n",
    "test_scores_mean = np.mean(test_scores, axis=1)\n",
    "\n",
    "plt.title(\"Validation Curve for Adaboost \")\n",
    "plt.xlabel(\"values of no of estimators\")\n",
    "plt.ylabel(\"MeanScore\")\n",
    "lw = 2\n",
    "plt.plot(no_estimators_adaboost, train_scores_mean, label=\"Training score\",color=\"darkorange\", lw=lw)\n",
    "plt.plot(no_estimators_adaboost, test_scores_mean, label=\"Cross-validation score\",color=\"navy\", lw=lw)\n",
    "plt.legend(loc=\"best\")\n",
    "plt.show()"
   ]
  },
  {
   "cell_type": "markdown",
   "metadata": {},
   "source": [
    "Mean Accuracy score is increasing with increase of estimators"
   ]
  },
  {
   "cell_type": "markdown",
   "metadata": {},
   "source": [
    "### Learning Rate"
   ]
  },
  {
   "cell_type": "code",
   "execution_count": 69,
   "metadata": {},
   "outputs": [
    {
     "data": {
      "image/png": "[encoded data removed]",
      "text/plain": [
       "<Figure size 432x288 with 1 Axes>"
      ]
     },
     "metadata": {
      "needs_background": "light"
     },
     "output_type": "display_data"
    }
   ],
   "source": [
    "learningrate_adaboost = [0.03,0.05,0.1,0.2,0.5]\n",
    "train_scores, test_scores = validation_curve(AdaBoostClassifier(), X = X_train, y = Y_train.values.ravel(),\n",
    "                                            param_name = 'learning_rate',param_range = learningrate_adaboost , cv = 3)\n",
    "train_scores_mean = np.mean(train_scores, axis=1)\n",
    "test_scores_mean = np.mean(test_scores, axis=1)\n",
    "\n",
    "plt.title(\"Validation Curve for Adaboost \")\n",
    "plt.xlabel(\"values of learning rate\")\n",
    "plt.ylabel(\"MeanScore\")\n",
    "lw = 2\n",
    "plt.plot(learningrate_adaboost, train_scores_mean, label=\"Training score\",color=\"darkorange\", lw=lw)\n",
    "plt.plot(learningrate_adaboost, test_scores_mean, label=\"Cross-validation score\",color=\"navy\", lw=lw)\n",
    "plt.legend(loc=\"best\")\n",
    "plt.show()"
   ]
  },
  {
   "cell_type": "markdown",
   "metadata": {},
   "source": [
    "best accuracy is at learning rate = 0.5\n",
    "accuracy increases as learning rate becomes closer to 1"
   ]
  },
  {
   "cell_type": "code",
   "execution_count": 92,
   "metadata": {},
   "outputs": [
    {
     "name": "stdout",
     "output_type": "stream",
     "text": [
      "Accuarcy: 0.7852824682092975\n"
     ]
    }
   ],
   "source": [
    "adaboost2 = ensemble.AdaBoostClassifier(n_estimators =800,learning_rate=0.6)\n",
    "adaboost2.fit(X_train,Y_train.values.ravel())\n",
    "pred = adaboost2.predict(X_test)\n",
    "accuracy1 = sklearn.metrics.accuracy_score(Y_test,pred, normalize=True, sample_weight=None)\n",
    "print(\"Accuarcy:\",accuracy1)\n"
   ]
  },
  {
   "cell_type": "code",
   "execution_count": 93,
   "metadata": {},
   "outputs": [
    {
     "name": "stdout",
     "output_type": "stream",
     "text": [
      "Accuarcy: 0.7886178861788617\n"
     ]
    }
   ],
   "source": [
    "adaboost1 = ensemble.AdaBoostClassifier(n_estimators =800,learning_rate=0.05)\n",
    "adaboost1.fit(X_train,Y_train.values.ravel())\n",
    "pred = adaboost1.predict(X_test)\n",
    "accuracy1 = sklearn.metrics.accuracy_score(Y_test,pred, normalize=True, sample_weight=None)\n",
    "print(\"Accuarcy:\",accuracy1)"
   ]
  },
  {
   "cell_type": "markdown",
   "metadata": {},
   "source": [
    "Observation : Accuracy is increasing with increase in learning rate"
   ]
  },
  {
   "cell_type": "markdown",
   "metadata": {},
   "source": [
    "### Using Grid Search CV"
   ]
  },
  {
   "cell_type": "code",
   "execution_count": 70,
   "metadata": {},
   "outputs": [
    {
     "name": "stdout",
     "output_type": "stream",
     "text": [
      "best params {'learning_rate': 0.5, 'n_estimators': 2000}\n",
      "best score 0.8607370401853892\n",
      "Best estimator AdaBoostClassifier(algorithm='SAMME.R', base_estimator=None, learning_rate=0.5,\n",
      "                   n_estimators=2000, random_state=None)\n"
     ]
    }
   ],
   "source": [
    "tuned_parameters1 =[{'n_estimators':[50,100,120,170,200,500,700,1000,2000],'learning_rate':[0.03,0.1,0.15,0.2,0.5]}]\n",
    "adaptive = ensemble.AdaBoostClassifier()\n",
    "adaptive = GridSearchCV(adaptive,tuned_parameters1,cv=3,scoring='roc_auc')\n",
    "adaptive.fit(X_train,Y_train.values.ravel())\n",
    "print(\"best params\",adaptive.best_params_)\n",
    "print(\"best score\",adaptive.best_score_)\n",
    "print(\"Best estimator\",adaptive.best_estimator_)"
   ]
  },
  {
   "cell_type": "markdown",
   "metadata": {},
   "source": [
    "### Tuning the model with best hyperparameters"
   ]
  },
  {
   "cell_type": "code",
   "execution_count": 91,
   "metadata": {},
   "outputs": [
    {
     "name": "stdout",
     "output_type": "stream",
     "text": [
      "Accuarcy: 0.7834062956014175\n"
     ]
    }
   ],
   "source": [
    "adaboost3 = ensemble.AdaBoostClassifier(n_estimators =2000,learning_rate=0.5)\n",
    "adaboost3.fit(X_train,Y_train.values.ravel())\n",
    "pred = adaboost3.predict(X_test)\n",
    "grid_adaboost3 = sklearn.metrics.accuracy_score(Y_test,pred, normalize=True, sample_weight=None)\n",
    "print(\"Accuarcy:\",grid_adaboost3)"
   ]
  },
  {
   "cell_type": "code",
   "execution_count": 100,
   "metadata": {},
   "outputs": [
    {
     "name": "stdout",
     "output_type": "stream",
     "text": [
      "              precision    recall  f1-score   support\n",
      "\n",
      "           0       0.81      0.87      0.84      2994\n",
      "           1       0.75      0.67      0.71      1803\n",
      "\n",
      "    accuracy                           0.79      4797\n",
      "   macro avg       0.78      0.77      0.77      4797\n",
      "weighted avg       0.79      0.79      0.79      4797\n",
      "\n"
     ]
    }
   ],
   "source": [
    "print(metrics.classification_report(Y_test,adaboost3.predict(X_test)))"
   ]
  },
  {
   "cell_type": "code",
   "execution_count": 88,
   "metadata": {},
   "outputs": [
    {
     "name": "stdout",
     "output_type": "stream",
     "text": [
      "Improvement of accuracy0.78%\n"
     ]
    }
   ],
   "source": [
    "print('Improvement of accuracy{:0.2f}%'.format( 100 * (grid_adaboost3 - base_adaBoost) / base_adaBoost))"
   ]
  }
 ],
 "metadata": {
  "kernelspec": {
   "display_name": "Python 3",
   "language": "python",
   "name": "python3"
  },
  "language_info": {
   "codemirror_mode": {
    "name": "ipython",
    "version": 3
   },
   "file_extension": ".py",
   "mimetype": "text/x-python",
   "name": "python",
   "nbconvert_exporter": "python",
   "pygments_lexer": "ipython3",
   "version": "3.7.4"
  }
 },
 "nbformat": 4,
 "nbformat_minor": 2
}
